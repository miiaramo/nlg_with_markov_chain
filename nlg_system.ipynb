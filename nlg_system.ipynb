{
 "cells": [
  {
   "cell_type": "markdown",
   "metadata": {},
   "source": [
    "# NLG system: Christmas greeting generator\n",
    "\n",
    "This is a very simple Christmas greeting generator using a Markov chain."
   ]
  },
  {
   "cell_type": "code",
   "execution_count": 6,
   "metadata": {},
   "outputs": [
    {
     "name": "stdout",
     "output_type": "stream",
     "text": [
      "Hello NLG\n"
     ]
    }
   ],
   "source": [
    "import pandas as pd\n",
    "import re\n",
    "\n",
    "print('Hello NLG')"
   ]
  },
  {
   "cell_type": "markdown",
   "metadata": {},
   "source": [
    "### Data processing"
   ]
  },
  {
   "cell_type": "code",
   "execution_count": 81,
   "metadata": {},
   "outputs": [],
   "source": [
    "with open('shutterfly_christmas_greetings.html', 'r') as f:\n",
    "    html = f.read()\n",
    "    \n",
    "greetings = re.findall(r'<li>(.*?)</li>', html)\n",
    "greetings = ' '.join(greetings).lower()\n",
    "\n",
    "greetings = re.sub(r'&[lr]dquo;', ' ', greetings)\n",
    "greetings = re.sub(r'<span(.*?)</span>', ' ', greetings)\n",
    "greetings = re.sub(r'&mdash;', ' ', greetings)"
   ]
  },
  {
   "cell_type": "markdown",
   "metadata": {},
   "source": [
    "### Markov chain"
   ]
  },
  {
   "cell_type": "code",
   "execution_count": 82,
   "metadata": {},
   "outputs": [],
   "source": [
    "from collections import defaultdict as dd\n",
    "\n",
    "def markov_chain(text):\n",
    "    words = text.split()\n",
    "    word_dict = dd(list)\n",
    "    for current_word, next_word in zip(words[0:-1], words[1:]):\n",
    "        word_dict[current_word].append(next_word)\n",
    "    return dict(word_dict)"
   ]
  },
  {
   "cell_type": "code",
   "execution_count": 83,
   "metadata": {},
   "outputs": [],
   "source": [
    "greeting_dict = markov_chain(greetings)"
   ]
  },
  {
   "cell_type": "markdown",
   "metadata": {},
   "source": [
    "### Sentence generator"
   ]
  },
  {
   "cell_type": "code",
   "execution_count": 84,
   "metadata": {},
   "outputs": [],
   "source": [
    "import random\n",
    "\n",
    "def generate_sentence(markov_chain, count=10):\n",
    "    word1 = random.choice(list(markov_chain.keys()))\n",
    "    sentence = word1.capitalize()\n",
    "\n",
    "    for i in range(count-1):\n",
    "        word2 = random.choice(markov_chain[word1])\n",
    "        word1 = word2\n",
    "        sentence += ' ' + word2\n",
    "\n",
    "    sentence += '.'\n",
    "    return(sentence)"
   ]
  },
  {
   "cell_type": "code",
   "execution_count": 91,
   "metadata": {},
   "outputs": [
    {
     "name": "stdout",
     "output_type": "stream",
     "text": [
      "Happiness. may every corner, energy to have a holy light.\n"
     ]
    }
   ],
   "source": [
    "print(generate_sentence(greeting_dict))"
   ]
  }
 ],
 "metadata": {
  "kernelspec": {
   "display_name": "Python 3",
   "language": "python",
   "name": "python3"
  },
  "language_info": {
   "codemirror_mode": {
    "name": "ipython",
    "version": 3
   },
   "file_extension": ".py",
   "mimetype": "text/x-python",
   "name": "python",
   "nbconvert_exporter": "python",
   "pygments_lexer": "ipython3",
   "version": "3.7.1"
  }
 },
 "nbformat": 4,
 "nbformat_minor": 2
}
